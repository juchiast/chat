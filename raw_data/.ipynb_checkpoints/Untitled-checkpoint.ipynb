{
 "cells": [
  {
   "cell_type": "code",
   "execution_count": 2,
   "metadata": {},
   "outputs": [],
   "source": [
    "from os import listdir\n",
    "from os.path import isfile, join"
   ]
  },
  {
   "cell_type": "code",
   "execution_count": 3,
   "metadata": {},
   "outputs": [],
   "source": [
    "paths = [join(\"subtitles\", f) for f in listdir(\"subtitles\") if isfile(join(\"subtitles\", f)) and f.endswith(\".srt\")]\n"
   ]
  },
  {
   "cell_type": "code",
   "execution_count": 4,
   "metadata": {},
   "outputs": [
    {
     "name": "stdout",
     "output_type": "stream",
     "text": [
      "94185800\n"
     ]
    }
   ],
   "source": [
    "def process(path):\n",
    "    f = open(path, \"r\")\n",
    "    text = f.read()\n",
    "    x = text.split(\"\\n\\n\")[1:]\n",
    "    res = []\n",
    "    for x in x:\n",
    "        xx = text.split(\"\\n\")\n",
    "        assert(len(xx) >= 3)\n",
    "        xx = xx[2:]\n",
    "        res += xx\n",
    "    return res\n",
    "\n",
    "msgs = []\n",
    "for p in paths:\n",
    "    msgs += process(p)\n",
    "    \n",
    "print(len(msgs))"
   ]
  }
 ],
 "metadata": {
  "kernelspec": {
   "display_name": "Python 3",
   "language": "python",
   "name": "python3"
  },
  "language_info": {
   "codemirror_mode": {
    "name": "ipython",
    "version": 3
   },
   "file_extension": ".py",
   "mimetype": "text/x-python",
   "name": "python",
   "nbconvert_exporter": "python",
   "pygments_lexer": "ipython3",
   "version": "3.7.5"
  }
 },
 "nbformat": 4,
 "nbformat_minor": 2
}
